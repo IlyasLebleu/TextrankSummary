{
 "cells": [
  {
   "cell_type": "code",
   "execution_count": 1,
   "metadata": {},
   "outputs": [],
   "source": [
    "import numpy as np\n",
    "import torch.nn as nn\n",
    "import scipy as sp\n",
    "import matplotlib.pyplot as plt\n",
    "import math\n",
    "import string\n",
    "import re"
   ]
  },
  {
   "cell_type": "code",
   "execution_count": 2,
   "metadata": {},
   "outputs": [],
   "source": [
    "import transformers #These two cells concern the construction of the object pipeline"
   ]
  },
  {
   "cell_type": "code",
   "execution_count": 3,
   "metadata": {},
   "outputs": [],
   "source": [
    "source = \"gilf/french-camembert-postag-model\"\n",
    "\n",
    "model = transformers.AutoModelForTokenClassification.from_pretrained(source)"
   ]
  },
  {
   "cell_type": "code",
   "execution_count": 11,
   "metadata": {},
   "outputs": [],
   "source": [
    "tokenizer = transformers.AutoTokenizer.from_pretrained(source)\n",
    "\n",
    "classifier = transformers.pipeline('ner', model=model, tokenizer=tokenizer, grouped_entities=True)"
   ]
  },
  {
   "cell_type": "code",
   "execution_count": 21,
   "metadata": {},
   "outputs": [],
   "source": [
    "sampleText = \"Le persan (autonyme : fārsī, ou pārsī) est une langue indo-européenne. C'est la langue officielle et majoritaire de l'Iran (centre, centre-sud, nord-est), de l'Afghanistan et du Tadjikistan. Le persan est une langue notable mais minoritaire à Bahreïn, en Irak, à Oman, au Qatar et aux Émirats arabes unis. Le dari, dialecte du persan, également appelé persan afghan ou persan oriental, est une langue officielle en Afghanistan ; il est parlé également en Iran et au Pakistan. De même, le tadjik, autre dialecte du persan, est la langue officielle du Tadjikistan et également parlé au Kirghizistan, au Turkménistan, en Ouzbékistan, et dans une moindre mesure au Kazakhstan. Le persan ou l’une de ses langues-sœurs est également parlé en Azerbaïdjan, en Russie et en Ouzbékistan (minorité tadjike). Jadis, du XVIe au XIXe siècle, il fut la langue officielle de l'Empire moghol. Le persan fait partie du groupe indo-iranien de la famille des langues indo-européennes. C'est une langue du type « sujet-objet-verbe ». Les langues persanes s’écrivent surtout au moyen de l'alphabet arabo-persan, variante de l'alphabet arabe, bien qu'elles n'aient aucune parenté avec la langue arabe, dont elles diffèrent tant sur le plan de la grammaire que de la phonologie. Au Tadjikistan, en Russie, en Azerbaïdjan et en Ouzbékistan, le tadjik s’écrit au moyen de l'alphabet cyrillique.\""
   ]
  },
  {
   "cell_type": "code",
   "execution_count": 5,
   "metadata": {},
   "outputs": [],
   "source": [
    "class Graph(object):\n",
    "    def __init__(self, n, E, dir=False):\n",
    "        self.n = n\n",
    "        self.E = E\n",
    "        self.score = [1 for i in range(n)]\n",
    "        self.inV = [[] for i in range(n)]\n",
    "        self.outV = [[] for i in range(n)]\n",
    "        \n",
    "        for e in E:\n",
    "            w = 1 if len(e) == 2 else e[2]\n",
    "            \n",
    "            self.inV[e[1]].append([e[0], w])\n",
    "            self.outV[e[0]].append([e[1], w])\n",
    "            if not dir:\n",
    "                self.inV[e[0]].append([e[1], w])\n",
    "                self.outV[e[1]].append([e[0], w])\n",
    "    \n",
    "    def textRank(self, d=0.85):\n",
    "        maxShift = 1\n",
    "        \n",
    "        while(maxShift >= 1e-4):\n",
    "            newScore = [(1-d) for i in range(self.n)]\n",
    "            for i in range(self.n):\n",
    "                for l, j in enumerate(self.inV[i]):\n",
    "                    newScore[i] += d * self.score[j[0]] * self.inV[i][l][1]/sum([k[1] for k in self.outV[j[0]]])\n",
    "            maxShift = max([abs(self.score[k] - newScore[k]) for k in range(self.n)])\n",
    "            self.score = newScore\n",
    "        return self.score"
   ]
  },
  {
   "cell_type": "code",
   "execution_count": 6,
   "metadata": {},
   "outputs": [
    {
     "name": "stdout",
     "output_type": "stream",
     "text": [
      "[1.2961485736273217, 0.7107506361068179, 1.0068992097341396, 0.9862015805317207]\n"
     ]
    }
   ],
   "source": [
    "g = Graph(4, [[0, 1], [0, 2], [0, 3], [1, 2], [2, 3], [3, 0]])\n",
    "\n",
    "print(g.textRank())"
   ]
  },
  {
   "cell_type": "code",
   "execution_count": 15,
   "metadata": {},
   "outputs": [
    {
     "data": {
      "text/plain": [
       "['choc',\n",
       " 'inédit',\n",
       " 'mesures',\n",
       " 'place',\n",
       " 'gouvernement',\n",
       " 'protection',\n",
       " 'forte',\n",
       " 'efficace',\n",
       " 'ménages']"
      ]
     },
     "execution_count": 15,
     "metadata": {},
     "output_type": "execute_result"
    }
   ],
   "source": [
    "def tokenize(sentence, removeDup=False):\n",
    "    rawData = classifier(sentence)\n",
    "    cleanedData = [word for word in rawData if (word['entity_group'] in ['ADJ', 'ADJWH', 'ET', 'NC', 'NPP'])]\n",
    "    tokens = [word['word'] for word in cleanedData]\n",
    "    return (list(dict.fromkeys(tokens)) if removeDup else tokens)\n",
    "\n",
    "def similarity(s1, s2): #Welp, not the most definite thing, but a good start to test stuff\n",
    "    w1 = tokenize(s1, removeDup=True)\n",
    "    w2 = tokenize(s2, removeDup=True)\n",
    "    n = sum([(1 if k in w2 else 0) for k in w1])\n",
    "    return n/(math.log(max(2, len(w1)))+math.log(max(2, len(w2))))\n",
    "\n",
    "tokenize(\"Face à un choc inédit, les mesures mises en place par le gouvernement ont permis une protection forte et efficace des ménages\")"
   ]
  },
  {
   "cell_type": "code",
   "execution_count": 23,
   "metadata": {},
   "outputs": [
    {
     "data": {
      "text/plain": [
       "[('Le persan (autonyme : fārsī, ou pārsī) est une langue indo-européenne.',\n",
       "  1.0245149545900247),\n",
       " (\"C'est la langue officielle et majoritaire de l'Iran (centre, centre-sud, nord-est), de l'Afghanistan et du Tadjikistan.\",\n",
       "  1.0550397737656654),\n",
       " ('Le persan est une langue notable mais minoritaire à Bahreïn, en Irak, à Oman, au Qatar et aux Émirats arabes unis.',\n",
       "  1.110880874604189),\n",
       " ('Le dari, dialecte du persan, également appelé persan afghan ou persan oriental, est une langue officielle en Afghanistan ; il est parlé également en Iran et au Pakistan.',\n",
       "  1.1550130159632974),\n",
       " ('De même, le tadjik, autre dialecte du persan, est la langue officielle du Tadjikistan et également parlé au Kirghizistan, au Turkménistan, en Ouzbékistan, et dans une moindre mesure au Kazakhstan.',\n",
       "  1.4242415153739978),\n",
       " ('Le persan ou l’une de ses langues-sœurs est également parlé en Azerbaïdjan, en Russie et en Ouzbékistan (minorité tadjike).',\n",
       "  0.8923216105273419),\n",
       " (\"Jadis, du XVIe au XIXe siècle, il fut la langue officielle de l'Empire moghol.\",\n",
       "  0.8863861132114881),\n",
       " ('Le persan fait partie du groupe indo-iranien de la famille des langues indo-européennes.',\n",
       "  0.7887872205870473),\n",
       " (\"C'est une langue du type « sujet-objet-verbe ».\", 0.5340670297608494),\n",
       " (\"Les langues persanes s’écrivent surtout au moyen de l'alphabet arabo-persan, variante de l'alphabet arabe, bien qu'elles n'aient aucune parenté avec la langue arabe, dont elles diffèrent tant sur le plan de la grammaire que de la phonologie.\",\n",
       "  1.1096897981154734),\n",
       " (\"Au Tadjikistan, en Russie, en Azerbaïdjan et en Ouzbékistan, le tadjik s’écrit au moyen de l'alphabet cyrillique.\",\n",
       "  1.0190580935006244)]"
      ]
     },
     "execution_count": 23,
     "metadata": {},
     "output_type": "execute_result"
    }
   ],
   "source": [
    "def sentenceRank(t): #Here, t stands for text, s for sentence, w for wordlist\n",
    "    sl = re.split(\"(?<=[.?!])\", t) #Sentence splitting\n",
    "    sl = [s if (s == \"\" or s[-1] not in [\" \", \"\\n\"]) else s[:-1] for s in sl]\n",
    "    sl = [s if (s == \"\" or s[0] not in [\" \", \"\\n\"]) else s[1:] for s in sl]\n",
    "    sl = [s for s in sl if len(tokenize(s)) != 0] #Cleaning up\n",
    "    \n",
    "    n = len(sl) #Graph construction\n",
    "    gs = []\n",
    "    for i in range(n):\n",
    "        for j in range(i): #The graph is undirected, we avoid duplicates\n",
    "            sim = similarity(sl[i], sl[j])\n",
    "            if sim != 0:\n",
    "                gs.append([i, j, sim])\n",
    "    g = Graph(n, gs, dir=False)\n",
    "    return list(zip(sl, g.textRank()))\n",
    "\n",
    "sentenceRank(sampleText)"
   ]
  },
  {
   "cell_type": "code",
   "execution_count": 38,
   "metadata": {},
   "outputs": [
    {
     "name": "stdout",
     "output_type": "stream",
     "text": [
      "Le persan (autonyme : fārsī, ou pārsī) est une langue indo-européenne. C'est la langue officielle et majoritaire de l'Iran (centre, centre-sud, nord-est), de l'Afghanistan et du Tadjikistan. Le persan est une langue notable mais minoritaire à Bahreïn, en Irak, à Oman, au Qatar et aux Émirats arabes unis. Le dari, dialecte du persan, également appelé persan afghan ou persan oriental, est une langue officielle en Afghanistan ; il est parlé également en Iran et au Pakistan. De même, le tadjik, autre dialecte du persan, est la langue officielle du Tadjikistan et également parlé au Kirghizistan, au Turkménistan, en Ouzbékistan, et dans une moindre mesure au Kazakhstan. Le persan ou l’une de ses langues-sœurs est également parlé en Azerbaïdjan, en Russie et en Ouzbékistan (minorité tadjike). Jadis, du XVIe au XIXe siècle, il fut la langue officielle de l'Empire moghol. Le persan fait partie du groupe indo-iranien de la famille des langues indo-européennes. C'est une langue du type « sujet-objet-verbe ». Les langues persanes s’écrivent surtout au moyen de l'alphabet arabo-persan, variante de l'alphabet arabe, bien qu'elles n'aient aucune parenté avec la langue arabe, dont elles diffèrent tant sur le plan de la grammaire que de la phonologie. Au Tadjikistan, en Russie, en Azerbaïdjan et en Ouzbékistan, le tadjik s’écrit au moyen de l'alphabet cyrillique.\n",
      "Le persan est une langue notable mais minoritaire à Bahreïn, en Irak, à Oman, au Qatar et aux Émirats arabes unis. Le dari, dialecte du persan, également appelé persan afghan ou persan oriental, est une langue officielle en Afghanistan ; il est parlé également en Iran et au Pakistan. De même, le tadjik, autre dialecte du persan, est la langue officielle du Tadjikistan et également parlé au Kirghizistan, au Turkménistan, en Ouzbékistan, et dans une moindre mesure au Kazakhstan.\n"
     ]
    }
   ],
   "source": [
    "def summarize(t, length):\n",
    "    unsortedList = [(k[0], k[1], i) for i, k in enumerate(sentenceRank(t))]\n",
    "    sortedList = sorted(unsortedList, key=(lambda k: -k[1])) #Sorting\n",
    "    sentences = [s for i, s in enumerate(sortedList) if (i == 0 or s[0] != sortedList[i-1][0])] #Removing duplicates\n",
    "    \n",
    "    summarySentences = []\n",
    "    l = 0\n",
    "    for s in sentences:\n",
    "        l += len(tokenize(s[0]))\n",
    "        if(l > length):\n",
    "            break\n",
    "        summarySentences.append(s)\n",
    "    summary = [s[0] for s in sorted(summarySentences, key=(lambda k: k[2]))]\n",
    "    return \" \".join(summary)\n",
    "\n",
    "print(sampleText)\n",
    "print(summarize(sampleText, 50))"
   ]
  },
  {
   "cell_type": "code",
   "execution_count": null,
   "metadata": {},
   "outputs": [],
   "source": []
  }
 ],
 "metadata": {
  "kernelspec": {
   "display_name": "Python 3",
   "language": "python",
   "name": "python3"
  },
  "language_info": {
   "codemirror_mode": {
    "name": "ipython",
    "version": 3
   },
   "file_extension": ".py",
   "mimetype": "text/x-python",
   "name": "python",
   "nbconvert_exporter": "python",
   "pygments_lexer": "ipython3",
   "version": "3.7.9"
  }
 },
 "nbformat": 4,
 "nbformat_minor": 4
}
