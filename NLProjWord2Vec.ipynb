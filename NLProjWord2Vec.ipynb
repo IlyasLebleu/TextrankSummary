{
 "cells": [
  {
   "cell_type": "markdown",
   "metadata": {
    "colab_type": "text",
    "id": "BZ88HxNEA9r0"
   },
   "source": [
    "# Word2Vec\n",
    "\n",
    "This notebook is a cleaned version of the Word2Vect practical, adapted to a French dataset, in order to get usable embeddings"
   ]
  },
  {
   "cell_type": "code",
   "execution_count": 2,
   "metadata": {
    "colab": {},
    "colab_type": "code",
    "id": "DTFsOQ8eA9r6"
   },
   "outputs": [],
   "source": [
    "import collections\n",
    "\n",
    "import math\n",
    "import numpy as np\n",
    "\n",
    "import random\n",
    "import sys\n",
    "import time\n",
    "import zipfile"
   ]
  },
  {
   "cell_type": "code",
   "execution_count": 3,
   "metadata": {
    "colab": {},
    "colab_type": "code",
    "id": "YYN50OYqLzj-"
   },
   "outputs": [
    {
     "name": "stdout",
     "output_type": "stream",
     "text": [
      "/home/quarknova/Desktop/NLProj/data\n",
      "--2021-01-16 11:56:08--  https://raw.githubusercontent.com/tomsercu/lstm/master/data/ptb.train.txt\n",
      "Resolving raw.githubusercontent.com (raw.githubusercontent.com)... 151.101.120.133\n",
      "Connecting to raw.githubusercontent.com (raw.githubusercontent.com)|151.101.120.133|:443... connected.\n",
      "HTTP request sent, awaiting response... 200 OK\n",
      "Length: 5101618 (4,9M) [text/plain]\n",
      "Saving to: ‘ptb.train.txt’\n",
      "\n",
      "ptb.train.txt       100%[===================>]   4,87M  2,04MB/s    in 2,4s    \n",
      "\n",
      "2021-01-16 11:56:11 (2,04 MB/s) - ‘ptb.train.txt’ saved [5101618/5101618]\n",
      "\n"
     ]
    }
   ],
   "source": [
    "## colab SETUP\n",
    "!mkdir data\n",
    "%cd data\n",
    "!wget https://raw.githubusercontent.com/tomsercu/lstm/master/data/ptb.train.txt\n",
    "ROOT_DIR='content'\n",
    "\n",
    "import os\n",
    "from pathlib import Path\n",
    "\n",
    "ROOT_DIR = Path.home()"
   ]
  },
  {
   "cell_type": "code",
   "execution_count": 6,
   "metadata": {
    "colab": {},
    "colab_type": "code",
    "id": "v4XKQvI3A9sD"
   },
   "outputs": [
    {
     "data": {
      "text/plain": [
       "'# sentences: 42068'"
      ]
     },
     "execution_count": 6,
     "metadata": {},
     "output_type": "execute_result"
    }
   ],
   "source": [
    "data_path = os.path.join(ROOT_DIR,'data/')\n",
    "file = 'ptb.train.txt'\n",
    "with open(data_path+file, 'r') as f:\n",
    "    lines = f.readlines()\n",
    "    # st is the abbreviation of \"sentence\" in the loop\n",
    "    raw_dataset = [st.split() for st in lines]\n",
    "\n",
    "'# sentences: %d' % len(raw_dataset)"
   ]
  },
  {
   "cell_type": "markdown",
   "metadata": {
    "colab_type": "text",
    "id": "ndY8FkLVA9sJ"
   },
   "source": [
    "For the first three sentences of the data set, print the number of words and the first five words of each sentence. The end character of this data set is \"&lt;eos&gt;\", uncommon words are all represented by \"&lt;unk&gt;\", and numbers are replaced with \"N\"."
   ]
  },
  {
   "cell_type": "code",
   "execution_count": 7,
   "metadata": {
    "colab": {},
    "colab_type": "code",
    "id": "enuzZ5ehA9sL"
   },
   "outputs": [
    {
     "name": "stdout",
     "output_type": "stream",
     "text": [
      "24\n",
      "aer\n",
      "banknote\n",
      "berlitz\n",
      "calloway\n",
      "centrust\n",
      "15\n",
      "pierre\n",
      "<unk>\n",
      "N\n",
      "years\n",
      "old\n",
      "11\n",
      "mr.\n",
      "<unk>\n",
      "is\n",
      "chairman\n",
      "of\n"
     ]
    }
   ],
   "source": [
    "for i in range(3):\n",
    "    print(len(raw_dataset[i]))\n",
    "    for j in range(5):\n",
    "        print(raw_dataset[i][j])"
   ]
  },
  {
   "cell_type": "markdown",
   "metadata": {
    "colab_type": "text",
    "id": "nOLu1KYBA9sU"
   },
   "source": [
    "### Create Word Index\n",
    "\n",
    "For the sake of simplicity, we only keep words that appear at least 5 times in the data set."
   ]
  },
  {
   "cell_type": "code",
   "execution_count": 8,
   "metadata": {
    "colab": {},
    "colab_type": "code",
    "id": "k0PQHu8NA9sW"
   },
   "outputs": [],
   "source": [
    "# tk is an abbreviation for \"token\" in the loop\n",
    "counter = collections.Counter([tk for st in raw_dataset for tk in st])\n",
    "counter = dict(filter(lambda x: x[1] >= 5, counter.items()))"
   ]
  },
  {
   "cell_type": "code",
   "execution_count": null,
   "metadata": {
    "colab": {},
    "colab_type": "code",
    "id": "-xn9hltgA9sb"
   },
   "outputs": [],
   "source": []
  },
  {
   "cell_type": "code",
   "execution_count": 9,
   "metadata": {
    "colab": {},
    "colab_type": "code",
    "id": "FcqXd38FA9sm"
   },
   "outputs": [
    {
     "data": {
      "text/plain": [
       "'# tokens: 887100'"
      ]
     },
     "execution_count": 9,
     "metadata": {},
     "output_type": "execute_result"
    }
   ],
   "source": [
    "idx_to_token = [tk for tk, _ in counter.items()]\n",
    "token_to_idx = {tk: idx for idx, tk in enumerate(idx_to_token)}\n",
    "dataset = [[token_to_idx[tk] for tk in st if tk in token_to_idx]\n",
    "           for st in raw_dataset]\n",
    "num_tokens = sum([len(st) for st in dataset])\n",
    "'# tokens: %d' % num_tokens"
   ]
  },
  {
   "cell_type": "code",
   "execution_count": 10,
   "metadata": {
    "colab": {},
    "colab_type": "code",
    "id": "4r8_tQd_A9ss"
   },
   "outputs": [
    {
     "data": {
      "text/plain": [
       "['pierre', '<unk>', 'N', 'years', 'old']"
      ]
     },
     "execution_count": 10,
     "metadata": {},
     "output_type": "execute_result"
    }
   ],
   "source": [
    "idx_to_token[:5]"
   ]
  },
  {
   "cell_type": "code",
   "execution_count": 11,
   "metadata": {
    "colab": {},
    "colab_type": "code",
    "id": "zTSoD5d2A9sz"
   },
   "outputs": [
    {
     "data": {
      "text/plain": [
       "4827"
      ]
     },
     "execution_count": 11,
     "metadata": {},
     "output_type": "execute_result"
    }
   ],
   "source": [
    "token_to_idx['consensus']"
   ]
  },
  {
   "cell_type": "markdown",
   "metadata": {
    "colab_type": "text",
    "id": "3a_eZugcA9s6"
   },
   "source": [
    "### Subsampling\n",
    "\n",
    "In text data, there are generally some words that appear at high frequencies, such \"the\", \"a\", and \"in\" in English. Generally speaking, in a context window, it is better to train the word embedding model when a word (such as \"chip\") and a lower-frequency word (such as \"microprocessor\") appear at the same time, rather than when a word appears with a higher-frequency word (such as \"the\"). Therefore, when training the word embedding model, we can perform subsampling[2] on the words. Specifically, each indexed word $w_i$ in the data set will drop out at a certain probability. The dropout probability is given as:\n",
    "\n",
    "$$ \\mathbb{P}(w_i) = \\max\\left(1 - \\sqrt{\\frac{t}{f(w_i)}}, 0\\right),$$\n",
    "\n",
    "Here, $f(w_i)$ is the ratio of the instances of word $w_i$ to the total number of words in the data set, and the constant $t$ is a hyper-parameter (set to $10^{-4}$ in this experiment). As we can see, it is only possible to drop out the word $w_i$ in subsampling when $f(w_i) > t$. The higher the word's frequency, the higher its dropout probability."
   ]
  },
  {
   "cell_type": "code",
   "execution_count": 12,
   "metadata": {
    "colab": {},
    "colab_type": "code",
    "id": "pAz0GiAYA9s7"
   },
   "outputs": [
    {
     "data": {
      "text/plain": [
       "'# tokens: 375392'"
      ]
     },
     "execution_count": 12,
     "metadata": {},
     "output_type": "execute_result"
    }
   ],
   "source": [
    "def discard(idx):\n",
    "    return random.uniform(0, 1) < 1 - math.sqrt(\n",
    "        1e-4 / counter[idx_to_token[idx]] * num_tokens)\n",
    "\n",
    "subsampled_dataset = [[tk for tk in st if not discard(tk)] for st in dataset]\n",
    "'# tokens: %d' % sum([len(st) for st in subsampled_dataset])"
   ]
  },
  {
   "cell_type": "code",
   "execution_count": 13,
   "metadata": {
    "colab": {},
    "colab_type": "code",
    "id": "Jv1nPR-NA9tA"
   },
   "outputs": [
    {
     "data": {
      "text/plain": [
       "'# the: before=50770, after=2129'"
      ]
     },
     "execution_count": 13,
     "metadata": {},
     "output_type": "execute_result"
    }
   ],
   "source": [
    "def compare_counts(token):\n",
    "    return '# %s: before=%d, after=%d' % (token, sum(\n",
    "        [st.count(token_to_idx[token]) for st in dataset]), sum(\n",
    "        [st.count(token_to_idx[token]) for st in subsampled_dataset]))\n",
    "\n",
    "compare_counts('the')"
   ]
  },
  {
   "cell_type": "code",
   "execution_count": 14,
   "metadata": {
    "colab": {},
    "colab_type": "code",
    "id": "MNjCPHXrA9tE"
   },
   "outputs": [
    {
     "data": {
      "text/plain": [
       "'# join: before=45, after=45'"
      ]
     },
     "execution_count": 14,
     "metadata": {},
     "output_type": "execute_result"
    }
   ],
   "source": [
    "compare_counts('join')"
   ]
  },
  {
   "cell_type": "markdown",
   "metadata": {
    "colab_type": "text",
    "id": "aAsNCgldA9tJ"
   },
   "source": [
    "### Extract Central Target Words and Context Words\n",
    "\n",
    "We use words with a distance from the central target word not exceeding the context window size as the context words of the given center target word. The following definition function extracts all the central target words and their context words. It uniformly and randomly samples an integer to be used as the context window size between integer 1 and the `max_window_size` (maximum context window)."
   ]
  },
  {
   "cell_type": "code",
   "execution_count": 15,
   "metadata": {
    "colab": {},
    "colab_type": "code",
    "id": "8huGW8DAA9tK"
   },
   "outputs": [],
   "source": [
    "def get_centers_and_contexts(dataset, max_window_size):\n",
    "    centers, contexts = [], []\n",
    "    for st in dataset:\n",
    "        # Each sentence needs at least 2 words to form a\n",
    "        # \"central target word - context word\" pair\n",
    "        if len(st) < 2:\n",
    "            continue\n",
    "        centers += st\n",
    "        for center_i in range(len(st)):\n",
    "            window_size = random.randint(1, max_window_size)\n",
    "            indices = list(range(max(0, center_i - window_size),\n",
    "                                 min(len(st), center_i + 1 + window_size)))\n",
    "            # Exclude the central target word from the context words\n",
    "            indices.remove(center_i)\n",
    "            contexts.append([st[idx] for idx in indices])\n",
    "    return centers, contexts"
   ]
  },
  {
   "cell_type": "code",
   "execution_count": 18,
   "metadata": {
    "colab": {},
    "colab_type": "code",
    "id": "N84nUVa-A9tO"
   },
   "outputs": [
    {
     "name": "stdout",
     "output_type": "stream",
     "text": [
      "dataset [[0, 1, 2, 3, 4, 5, 6], [7, 8, 9]]\n",
      "center 0 has contexts [1, 2]\n",
      "center 1 has contexts [0, 2, 3]\n",
      "center 2 has contexts [0, 1, 3, 4]\n",
      "center 3 has contexts [2, 4]\n",
      "center 4 has contexts [2, 3, 5, 6]\n",
      "center 5 has contexts [4, 6]\n",
      "center 6 has contexts [5]\n",
      "center 7 has contexts [8]\n",
      "center 8 has contexts [7, 9]\n",
      "center 9 has contexts [8]\n"
     ]
    }
   ],
   "source": [
    "tiny_dataset = [list(range(7)), list(range(7, 10))]\n",
    "print('dataset', tiny_dataset)\n",
    "for center, context in zip(*get_centers_and_contexts(tiny_dataset, 2)):\n",
    "    print('center', center, 'has contexts', context)"
   ]
  },
  {
   "cell_type": "markdown",
   "metadata": {
    "colab_type": "text",
    "id": "0RK2JtgpA9tY"
   },
   "source": [
    "In the experiment, we set the maximum context window size to 5. The following extracts all the central target words and their context words in the data set."
   ]
  },
  {
   "cell_type": "code",
   "execution_count": 19,
   "metadata": {
    "colab": {},
    "colab_type": "code",
    "id": "Y2k9PtoqA9tZ"
   },
   "outputs": [],
   "source": [
    "all_centers, all_contexts = get_centers_and_contexts(subsampled_dataset, 5)"
   ]
  },
  {
   "cell_type": "markdown",
   "metadata": {
    "colab_type": "text",
    "id": "F4M3c2pbA9tf"
   },
   "source": [
    "## Negative Sampling\n",
    "\n",
    "We use negative sampling for approximate training. For a central and context word pair, we randomly sample $K$ noise words ($K=5$ in the experiment). According to the suggestion in the Word2vec paper, the noise word sampling probability $\\mathbb{P}(w)$ is the ratio of the word frequency of $w$ to the total word frequency raised to the power of 0.75."
   ]
  },
  {
   "cell_type": "code",
   "execution_count": 20,
   "metadata": {
    "colab": {},
    "colab_type": "code",
    "id": "Pfd8ukxhA9tl"
   },
   "outputs": [],
   "source": [
    "def get_negatives(all_contexts, sampling_weights, K):\n",
    "    all_negatives, neg_candidates, i = [], [], 0\n",
    "    population = list(range(len(sampling_weights)))\n",
    "    for contexts in all_contexts:\n",
    "        negatives = []\n",
    "        while len(negatives) < len(contexts) * K:\n",
    "            if i == len(neg_candidates):\n",
    "                # An index of k words is randomly generated as noise words\n",
    "                # based on the weight of each word (sampling_weights). For\n",
    "                # efficient calculation, k can be set slightly larger\n",
    "                i, neg_candidates = 0, random.choices(population, sampling_weights, k=int(1e5))\n",
    "            neg, i = neg_candidates[i], i + 1\n",
    "            # Noise words cannot be context words\n",
    "            if neg not in set(contexts):\n",
    "                negatives.append(neg)\n",
    "        all_negatives.append(negatives)\n",
    "    return all_negatives\n",
    "\n",
    "sampling_weights = [counter[w]**0.75 for w in idx_to_token]\n",
    "all_negatives = get_negatives(all_contexts, sampling_weights, 5)"
   ]
  },
  {
   "cell_type": "code",
   "execution_count": 21,
   "metadata": {
    "colab": {},
    "colab_type": "code",
    "id": "vRYt2t8wA9tq"
   },
   "outputs": [
    {
     "data": {
      "text/plain": [
       "[4555,\n",
       " 74,\n",
       " 3081,\n",
       " 4878,\n",
       " 2819,\n",
       " 3349,\n",
       " 1132,\n",
       " 6819,\n",
       " 942,\n",
       " 2266,\n",
       " 7548,\n",
       " 5992,\n",
       " 1459,\n",
       " 4530,\n",
       " 3890,\n",
       " 1104,\n",
       " 179,\n",
       " 10,\n",
       " 1092,\n",
       " 2117,\n",
       " 5755,\n",
       " 2419,\n",
       " 2397,\n",
       " 4945,\n",
       " 3974]"
      ]
     },
     "execution_count": 21,
     "metadata": {},
     "output_type": "execute_result"
    }
   ],
   "source": [
    "all_negatives[0]"
   ]
  },
  {
   "cell_type": "code",
   "execution_count": 22,
   "metadata": {
    "colab": {},
    "colab_type": "code",
    "id": "Nd-w6UFdA9tz"
   },
   "outputs": [
    {
     "data": {
      "text/plain": [
       "[3, 5, 6, 8, 11]"
      ]
     },
     "execution_count": 22,
     "metadata": {},
     "output_type": "execute_result"
    }
   ],
   "source": [
    "all_contexts[0]"
   ]
  },
  {
   "cell_type": "markdown",
   "metadata": {
    "colab_type": "text",
    "id": "xCAy09AqA9t2"
   },
   "source": [
    "## Reading Data\n",
    "\n",
    "We extracted all central target words `all_centers`, and the context words `all_contexts` and noise words `all_negatives` of each central target word from the data set. We will read them in random mini-batches.\n",
    "\n",
    "In a mini-batch of data, the $i$-th example includes a central word and its corresponding $n_i$ context words and $m_i$ noise words. Since the context window size of each example may be different, the sum of context words and noise words, $n_i+m_i$, will be different. When constructing a mini-batch, we concatenate the context words and noise words of each example, and add 0s for padding until the length of the concatenations are the same, that is, the length of all concatenations is $\\max_i n_i+m_i$(`max_len`). In order to avoid the effect of padding on the loss function calculation, we construct the mask variable `masks`, each element of which corresponds to an element in the concatenation of context and noise words, `contexts_negatives`. When an element in the variable `contexts_negatives` is a padding, the element in the mask variable `masks` at the same position will be 0. Otherwise, it takes the value 1. In order to distinguish between positive and negative examples, we also need to distinguish the context words from the noise words in the `contexts_negatives` variable. Based on the construction of the mask variable, we only need to create a label variable `labels` with the same shape as the `contexts_negatives` variable and set the elements corresponding to context words (positive examples) to 1, and the rest to 0.\n",
    "\n",
    "Next, we will implement the mini-batch reading function `batchify`. Its mini-batch input `data` is a list whose length is the batch size, each element of which contains central target words `center`, context words `context`, and noise words `negative`. The mini-batch data returned by this function conforms to the format we need, for example, it includes the mask variable. We wrap this function in a `Dataset` module."
   ]
  },
  {
   "cell_type": "code",
   "execution_count": 23,
   "metadata": {
    "colab": {},
    "colab_type": "code",
    "id": "uJs9ymetA9t3"
   },
   "outputs": [],
   "source": [
    "import torch\n",
    "import torch.nn as nn"
   ]
  },
  {
   "cell_type": "code",
   "execution_count": 24,
   "metadata": {
    "colab": {},
    "colab_type": "code",
    "id": "t0GFenm_A9t7"
   },
   "outputs": [],
   "source": [
    "from torch.utils.data import Dataset, DataLoader"
   ]
  },
  {
   "cell_type": "code",
   "execution_count": 25,
   "metadata": {
    "colab": {},
    "colab_type": "code",
    "id": "PuheXdUEA9t_"
   },
   "outputs": [],
   "source": [
    "class PTB_dataset(Dataset):\n",
    "    \n",
    "    def __init__(self, all_centers, all_contexts, all_negatives):\n",
    "        self.all_centers, self.all_contexts_negatives, self.all_masks, self.all_labels = self.batchify(list(zip(all_centers,all_contexts,all_negatives)))\n",
    "        \n",
    "    def __len__(self):\n",
    "        return len(self.all_centers)\n",
    "    \n",
    "    def __getitem__(self,idx):\n",
    "        return self.all_centers[idx], self.all_contexts_negatives[idx], self.all_masks[idx], self.all_labels[idx]\n",
    "        \n",
    "    def batchify(self,data):\n",
    "        max_len = max(len(c) + len(n) for _, c, n in data)\n",
    "        centers, contexts_negatives, masks, labels = [], [], [], []\n",
    "        for center, context, negative in data:\n",
    "            cur_len = len(context) + len(negative)\n",
    "            centers += [center]\n",
    "            contexts_negatives += [context + negative + [0] * (max_len - cur_len)]\n",
    "            masks += [[1] * cur_len + [0] * (max_len - cur_len)]\n",
    "            labels += [[1] * len(context) + [0] * (max_len - len(context))]\n",
    "        return (torch.tensor(centers).view((-1, 1)), torch.tensor(np.array(contexts_negatives)),\n",
    "            torch.tensor(np.array(masks)), torch.tensor(np.array(labels)))\n",
    "        "
   ]
  },
  {
   "cell_type": "code",
   "execution_count": 26,
   "metadata": {
    "colab": {},
    "colab_type": "code",
    "id": "rjAdHiQTA9uC"
   },
   "outputs": [],
   "source": [
    "ptbdata = PTB_dataset(all_centers, all_contexts, all_negatives)"
   ]
  },
  {
   "cell_type": "code",
   "execution_count": 27,
   "metadata": {
    "colab": {},
    "colab_type": "code",
    "id": "iQaI870eA9uE"
   },
   "outputs": [
    {
     "data": {
      "text/plain": [
       "(tensor([3]),\n",
       " tensor([   0,    5,    6,    8, 3523,  144, 3099, 5207,   23,  442,  649, 2549,\n",
       "         1537, 3815,  127, 6354, 4318,  212, 5063,   94,  378,   94, 3100, 4196,\n",
       "            0,    0,    0,    0,    0,    0,    0,    0,    0,    0,    0,    0,\n",
       "            0,    0,    0,    0,    0,    0,    0,    0,    0,    0,    0,    0,\n",
       "            0,    0,    0,    0,    0,    0,    0,    0,    0,    0,    0,    0]),\n",
       " tensor([1, 1, 1, 1, 1, 1, 1, 1, 1, 1, 1, 1, 1, 1, 1, 1, 1, 1, 1, 1, 1, 1, 1, 1,\n",
       "         0, 0, 0, 0, 0, 0, 0, 0, 0, 0, 0, 0, 0, 0, 0, 0, 0, 0, 0, 0, 0, 0, 0, 0,\n",
       "         0, 0, 0, 0, 0, 0, 0, 0, 0, 0, 0, 0]),\n",
       " tensor([1, 1, 1, 1, 0, 0, 0, 0, 0, 0, 0, 0, 0, 0, 0, 0, 0, 0, 0, 0, 0, 0, 0, 0,\n",
       "         0, 0, 0, 0, 0, 0, 0, 0, 0, 0, 0, 0, 0, 0, 0, 0, 0, 0, 0, 0, 0, 0, 0, 0,\n",
       "         0, 0, 0, 0, 0, 0, 0, 0, 0, 0, 0, 0]))"
      ]
     },
     "execution_count": 27,
     "metadata": {},
     "output_type": "execute_result"
    }
   ],
   "source": [
    "ptbdata[1]"
   ]
  },
  {
   "cell_type": "markdown",
   "metadata": {
    "colab_type": "text",
    "id": "VIIjdClMA9uH"
   },
   "source": [
    "And here is our dataloader."
   ]
  },
  {
   "cell_type": "code",
   "execution_count": 28,
   "metadata": {
    "colab": {},
    "colab_type": "code",
    "id": "mMUFDG2LA9uI"
   },
   "outputs": [
    {
     "name": "stdout",
     "output_type": "stream",
     "text": [
      "centers shape: torch.Size([512, 1])\n",
      "contexts_negatives shape: torch.Size([512, 60])\n",
      "masks shape: torch.Size([512, 60])\n",
      "labels shape: torch.Size([512, 60])\n"
     ]
    }
   ],
   "source": [
    "batch_size = 512\n",
    "\n",
    "data_loader = DataLoader(ptbdata, batch_size, shuffle=True,\n",
    "                              num_workers=4)\n",
    "for batch in data_loader:\n",
    "    for name, data in zip(['centers', 'contexts_negatives', 'masks',\n",
    "                           'labels'], batch):\n",
    "        print(name, 'shape:', data.shape)\n",
    "    break"
   ]
  },
  {
   "cell_type": "markdown",
   "metadata": {
    "colab_type": "text",
    "id": "A4YEjWTSA9uL"
   },
   "source": [
    "## The Skip-Gram Model\n",
    "\n",
    "You will implement the skip-gram model by using embedding layers and mini-batch multiplication [`torch.einsum`](https://pytorch.org/docs/stable/torch.html#torch.bmm). These methods are also often used to implement other natural language processing applications."
   ]
  },
  {
   "cell_type": "code",
   "execution_count": 29,
   "metadata": {
    "colab": {},
    "colab_type": "code",
    "id": "nLz15ca5A9uM"
   },
   "outputs": [],
   "source": [
    "# taken from the spotlight library, see\n",
    "# https://github.com/maciejkula/spotlight/blob/master/spotlight/layers.py\n",
    "class ScaledEmbedding(nn.Embedding):\n",
    "    \"\"\"\n",
    "    Embedding layer that initialises its values\n",
    "    to using a normal variable scaled by the inverse\n",
    "    of the emedding dimension.\n",
    "    \"\"\"\n",
    "    def reset_parameters(self):\n",
    "        \"\"\"\n",
    "        Initialize parameters.\n",
    "        \"\"\"\n",
    "        self.weight.data.normal_(0, 1.0 / self.embedding_dim)\n",
    "        if self.padding_idx is not None:\n",
    "            self.weight.data[self.padding_idx].fill_(0)"
   ]
  },
  {
   "cell_type": "markdown",
   "metadata": {
    "colab_type": "text",
    "id": "o7bS-dFbA9uP"
   },
   "source": [
    "### Skip-gram Model Forward Calculation\n",
    "\n",
    "In forward calculation, the input of the skip-gram model contains the central target word index `center` and the concatenated context and noise word index `contexts_and_negatives`. In which, the `center` variable has the shape (batch size, 1), while the `contexts_and_negatives` variable has the shape (batch size, `max_len`). These two variables are first transformed from word indexes to word vectors by the word embedding layer, and then the output of shape (batch size, 1, `max_len`) is obtained by mini-batch multiplication. Each element in the output is the inner product of the central target word vector and the context word vector or noise word vector."
   ]
  },
  {
   "cell_type": "code",
   "execution_count": 95,
   "metadata": {
    "colab": {},
    "colab_type": "code",
    "id": "CTOeSlqmA9uP"
   },
   "outputs": [],
   "source": [
    "class Skip_gram(nn.Module):\n",
    "    def __init__(self, input_dim, embed_size = 100):\n",
    "        super(Skip_gram, self).__init__()\n",
    "        self.input_dim = input_dim\n",
    "        self.embed_size = embed_size\n",
    "        self.central_emb = ScaledEmbedding(self.input_dim,self.embed_size)\n",
    "        self.context_emb = ScaledEmbedding(self.input_dim,self.embed_size)\n",
    "        \n",
    "    def forward(self, icent, icont):\n",
    "        # (hint: dimensions are for icent (bs,1) for icont (bs,max_len) and output (bs,1,max_len))\n",
    "        output = torch.einsum('aij,akj->aik', self.central_emb(icent), self.context_emb(icont))\n",
    "        return output"
   ]
  },
  {
   "cell_type": "code",
   "execution_count": 98,
   "metadata": {
    "colab": {},
    "colab_type": "code",
    "id": "z0Z7NPX1A9uT"
   },
   "outputs": [],
   "source": [
    "net = Skip_gram(len(idx_to_token))"
   ]
  },
  {
   "cell_type": "code",
   "execution_count": 99,
   "metadata": {
    "colab": {},
    "colab_type": "code",
    "id": "xgSDQ6TeA9uV"
   },
   "outputs": [
    {
     "data": {
      "text/plain": [
       "tensor([[[ 0.0003,  0.0003]],\n",
       "\n",
       "        [[-0.0011, -0.0011]],\n",
       "\n",
       "        [[ 0.0006,  0.0006]]], grad_fn=<ViewBackward>)"
      ]
     },
     "execution_count": 99,
     "metadata": {},
     "output_type": "execute_result"
    }
   ],
   "source": [
    "net(torch.tensor([0,1,3]).unsqueeze(1),torch.tensor([[0,0],[0,0],[0,0]]))"
   ]
  },
  {
   "cell_type": "markdown",
   "metadata": {
    "colab_type": "text",
    "id": "tuYrt-x4A9uY"
   },
   "source": [
    "### Loss function\n",
    "\n",
    "It is worth mentioning that we need use the mask variable to specify the partial predicted value and label that participate in loss function calculation in the mini-batch: when the mask is 1, the predicted value and label of the corresponding position will participate in the calculation of the loss function; When the mask is 0, the predicted value and label of the corresponding position do not participate in the calculation of the loss function. As we mentioned earlier, mask variables can be used to avoid the effect of padding on loss function calculations."
   ]
  },
  {
   "cell_type": "code",
   "execution_count": 163,
   "metadata": {
    "colab": {},
    "colab_type": "code",
    "id": "Cb2V_wIEA9uY"
   },
   "outputs": [],
   "source": [
    "loss_fn = nn.BCEWithLogitsLoss(reduction='none')\n",
    "def criterion(pred, label, mask):\n",
    "    #\n",
    "    return [loss_fn(p, l.type_as(p)) * m for p, l, m in zip(pred, label, mask)]"
   ]
  },
  {
   "cell_type": "code",
   "execution_count": 164,
   "metadata": {
    "colab": {},
    "colab_type": "code",
    "id": "J8OJMelWA9ua"
   },
   "outputs": [
    {
     "data": {
      "text/plain": [
       "[tensor([0.2014, 0.8544, 0.3133, 2.1269]),\n",
       " tensor([0.2873, 1.0375, 2.3051, 0.0000])]"
      ]
     },
     "execution_count": 164,
     "metadata": {},
     "output_type": "execute_result"
    }
   ],
   "source": [
    "pred = torch.tensor([[1.5, 0.3, -1, 2], [1.1, -0.6, 2.2, 0.4]])\n",
    "# 1 and 0 in the label variables label represent context words and the noise\n",
    "# words, respectively\n",
    "label = torch.tensor([[1, 0, 0, 0], [1, 1, 0, 0]]).type(torch.FloatTensor)\n",
    "mask = torch.tensor([[1, 1, 1, 1], [1, 1, 1, 0]]).type(torch.FloatTensor)  # Mask variable\n",
    "\n",
    "criterion(pred,label,mask)"
   ]
  },
  {
   "cell_type": "code",
   "execution_count": 165,
   "metadata": {
    "colab": {},
    "colab_type": "code",
    "id": "vfx1o6c1A9ud"
   },
   "outputs": [],
   "source": [
    "optimizer = torch.optim.Adam(net.parameters(),lr=0.005)"
   ]
  },
  {
   "cell_type": "code",
   "execution_count": 179,
   "metadata": {
    "colab": {},
    "colab_type": "code",
    "id": "WONDLY8IA9uf"
   },
   "outputs": [],
   "source": [
    "def train(n_epochs):\n",
    "    \n",
    "    for epoch in range(n_epochs):\n",
    "        start, loss = time.time(), 0\n",
    "        print(len(data_loader))\n",
    "        for batch in data_loader:\n",
    "            #\n",
    "            cent, cont, mask, label = batch\n",
    "            pred = torch.squeeze(net(cent, cont))\n",
    "            loss = torch.sum(sum(criterion(pred, label, mask)))\n",
    "            loss.backward()\n",
    "            optimizer.step()\n",
    "            optimizer.zero_grad()\n",
    "            \n",
    "        print('epoch %d, loss %.2f, time %.2fs'\n",
    "              % (epoch + 1, loss, time.time() - start))"
   ]
  },
  {
   "cell_type": "code",
   "execution_count": 181,
   "metadata": {
    "colab": {},
    "colab_type": "code",
    "id": "sCSPXuRjA9ug",
    "scrolled": true
   },
   "outputs": [
    {
     "name": "stdout",
     "output_type": "stream",
     "text": [
      "732\n",
      "epoch 1, loss 2001.61, time 177.00s\n",
      "732\n",
      "epoch 2, loss 1889.13, time 170.48s\n",
      "732\n",
      "epoch 3, loss 1886.85, time 180.14s\n",
      "732\n",
      "epoch 4, loss 1813.41, time 170.84s\n",
      "732\n",
      "epoch 5, loss 1725.01, time 166.89s\n",
      "732\n",
      "epoch 6, loss 1662.56, time 171.37s\n"
     ]
    }
   ],
   "source": [
    "train(6)"
   ]
  },
  {
   "cell_type": "raw",
   "metadata": {
    "colab_type": "text",
    "id": "Fux1T7u-A9uj"
   },
   "source": [
    "## Applying the Word Embedding Model\n",
    "\n",
    "After training the word embedding model, we can represent similarity in meaning between words based on the cosine similarity of two word vectors. As we can see, when using the trained word embedding model, the words closest in meaning to the word \"chip\" are mostly related to chips."
   ]
  },
  {
   "cell_type": "code",
   "execution_count": 205,
   "metadata": {
    "colab": {},
    "colab_type": "code",
    "id": "jPQZOcdGA9uk"
   },
   "outputs": [
    {
     "name": "stdout",
     "output_type": "stream",
     "text": [
      "cosine sim=0.516: intel\n",
      "cosine sim=0.438: screens\n",
      "cosine sim=0.430: microprocessor\n"
     ]
    }
   ],
   "source": [
    "def get_similar_tokens(query_token, k, W):\n",
    "    #\n",
    "    # your code here\n",
    "    #\n",
    "    token_id = token_to_idx[query_token]\n",
    "    cos_sim = nn.CosineSimilarity()\n",
    "    cos = torch.Tensor([cos_sim(net.central_emb(torch.LongTensor([token_id])), net.central_emb(torch.LongTensor([i]))) for i in range(len(idx_to_token))])\n",
    "    \n",
    "    _,topk = torch.topk(cos, k=k+1,)\n",
    "    for i in topk[1:]:# Remove the input words\n",
    "        print('cosine sim=%.3f: %s' % (cos[i], (idx_to_token[i])))\n",
    "\n",
    "get_similar_tokens('chip', 3, net.central_emb.weight.data)"
   ]
  },
  {
   "cell_type": "code",
   "execution_count": 207,
   "metadata": {},
   "outputs": [],
   "source": [
    "import pickle"
   ]
  },
  {
   "cell_type": "code",
   "execution_count": 209,
   "metadata": {
    "colab": {},
    "colab_type": "code",
    "id": "dWz6Cno3A9um"
   },
   "outputs": [],
   "source": [
    "with open('embeddings', 'wb') as embeddings_obj:\n",
    "    pickle.dump(net.central_emb, embeddings_obj)"
   ]
  },
  {
   "cell_type": "code",
   "execution_count": 213,
   "metadata": {},
   "outputs": [],
   "source": [
    "embs = [net.central_emb(torch.LongTensor([i])).tolist() for i in range(len(idx_to_token))]"
   ]
  },
  {
   "cell_type": "code",
   "execution_count": 215,
   "metadata": {},
   "outputs": [
    {
     "name": "stdout",
     "output_type": "stream",
     "text": [
      "Stored 'embs' (list)\n"
     ]
    }
   ],
   "source": [
    "%store embs"
   ]
  },
  {
   "cell_type": "code",
   "execution_count": 217,
   "metadata": {},
   "outputs": [
    {
     "name": "stdout",
     "output_type": "stream",
     "text": [
      "Stored 'token_to_idx' (dict)\n",
      "Stored 'idx_to_token' (list)\n"
     ]
    }
   ],
   "source": [
    "%store token_to_idx\n",
    "%store idx_to_token"
   ]
  },
  {
   "cell_type": "code",
   "execution_count": null,
   "metadata": {},
   "outputs": [],
   "source": []
  }
 ],
 "metadata": {
  "colab": {
   "collapsed_sections": [],
   "include_colab_link": false,
   "name": "08_Word2vec_pytorch_empty.ipynb",
   "provenance": []
  },
  "kernelspec": {
   "display_name": "Python 3",
   "language": "python",
   "name": "python3"
  },
  "language_info": {
   "codemirror_mode": {
    "name": "ipython",
    "version": 3
   },
   "file_extension": ".py",
   "mimetype": "text/x-python",
   "name": "python",
   "nbconvert_exporter": "python",
   "pygments_lexer": "ipython3",
   "version": "3.7.9"
  }
 },
 "nbformat": 4,
 "nbformat_minor": 1
}
